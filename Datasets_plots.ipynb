{
 "cells": [
  {
   "cell_type": "code",
   "execution_count": 1,
   "id": "f4fdf9b2",
   "metadata": {},
   "outputs": [],
   "source": [
    "import os\n",
    "import pandas as pd\n",
    "import numpy as np\n",
    "import cv2"
   ]
  },
  {
   "cell_type": "code",
   "execution_count": 2,
   "id": "a8b5a137",
   "metadata": {},
   "outputs": [],
   "source": [
    "def read_FER13_and_create_images(dataset_dir='Dataset\\input\\FER13'):\n",
    "    dir_path = os.getcwd()\n",
    "    path_dataset_dir = os.path.join(dir_path, dataset_dir)\n",
    "    csv_dir =  os.path.join(path_dataset_dir, 'fer2013.csv')\n",
    "    \n",
    "    csv_fer = pd.read_csv(csv_dir)\n",
    "    pixels_lst = csv_fer['pixels'].values.tolist()\n",
    "    emotions_lst = csv_fer['emotion'].values.tolist()\n",
    "    \n",
    "    from_id_to_emotion = {0:'angry', 1:'disgust', 2:'fear', 3:'happy', 4:'sad', 5:'surprise', 6:'neutral'}\n",
    "    filename_lst = []\n",
    "    for i, pixels in enumerate(pixels_lst):\n",
    "        pixels = list(pixels.split(\" \"))\n",
    "        pixels_np = np.array(pixels, dtype=np.float64).reshape((48, 48))\n",
    "        filename = f'emotion_fer13_{i}.jpg'\n",
    "        filename_dir = os.path.join(path_dataset_dir, filename)\n",
    "        cv2.imwrite(filename_dir, pixels_np)\n",
    "         \n",
    "        filename_lst.append(filename)\n",
    "    \n",
    "    emotions = []\n",
    "    for emotion in emotions_lst:\n",
    "        emotions.append(from_id_to_emotion[emotion])\n",
    "    csv_fer['pth'] = filename_lst\n",
    "    csv_fer['label'] = emotions\n",
    "    csv_dir =  os.path.join(path_dataset_dir, 'fer_13.csv')\n",
    "    csv_fer.to_csv(csv_dir)"
   ]
  },
  {
   "cell_type": "code",
   "execution_count": 3,
   "id": "5bd2a40b",
   "metadata": {},
   "outputs": [],
   "source": [
    "read_FER13_and_create_images()"
   ]
  },
  {
   "cell_type": "code",
   "execution_count": 4,
   "id": "5e328870",
   "metadata": {},
   "outputs": [],
   "source": [
    "def create_CK_csv(dataset_dir='Dataset\\input\\KC_extend', folders=['anger', 'contempt', 'disgust', 'fear', 'happiness', 'neutral', 'sadness', 'surprise']):\n",
    "    lst_img_pth = []\n",
    "    lst_label = []\n",
    "    dir_path = os.getcwd()\n",
    "    path_dataset_dir = os.path.join(dir_path, dataset_dir)\n",
    "    \n",
    "    for folder in folders:\n",
    "        images_folder_dir = os.path.join(path_dataset_dir, folder)\n",
    "        arr = os.listdir(images_folder_dir)\n",
    "        imgs_path = [os.path.join(folder, pth) for pth in arr]\n",
    "        lst_img_pth.extend(imgs_path)\n",
    "        labels = [folder for i in range(len(arr))]\n",
    "        lst_label.extend(labels)\n",
    "        \n",
    "    data = {'pth': lst_img_pth,\n",
    "            'label': lst_label}\n",
    "    \n",
    "    df = pd.DataFrame(data)\n",
    "    csv_dir = os.path.join(path_dataset_dir, 'KC_extend.csv')\n",
    "    df.to_csv(csv_dir)"
   ]
  },
  {
   "cell_type": "code",
   "execution_count": null,
   "id": "99842cab",
   "metadata": {},
   "outputs": [],
   "source": []
  },
  {
   "cell_type": "code",
   "execution_count": 5,
   "id": "2214428c",
   "metadata": {},
   "outputs": [],
   "source": [
    "def concat_all_emotic_files(dataset_dir='Dataset\\input\\emotic', files=['annot_arrs_extra_train.csv', 'annot_arrs_test.csv', 'annot_arrs_train.csv', 'annot_arrs_val.csv']):\n",
    "    dir_path = os.getcwd()\n",
    "    path_dataset_dir = os.path.join(dir_path, dataset_dir)\n",
    "    df = pd.DataFrame()\n",
    "    for file in files:\n",
    "        csv_path = os.path.join(path_dataset_dir, file)\n",
    "        csv_fer = pd.read_csv(csv_path)\n",
    "        df = pd.concat([df, csv_fer])\n",
    "    df.columns = df.columns.str.replace('Crop_name', 'pth')\n",
    "    csv_dir = os.path.join(path_dataset_dir, 'emotic.csv')\n",
    "    df.to_csv(csv_dir, index=False)"
   ]
  },
  {
   "cell_type": "code",
   "execution_count": 6,
   "id": "013cb105",
   "metadata": {},
   "outputs": [],
   "source": [
    "concat_all_emotic_files()"
   ]
  },
  {
   "cell_type": "code",
   "execution_count": 7,
   "id": "42272100",
   "metadata": {},
   "outputs": [],
   "source": [
    "# create_CK_csv()"
   ]
  },
  {
   "cell_type": "code",
   "execution_count": 2,
   "id": "24fba11b",
   "metadata": {},
   "outputs": [],
   "source": [
    "def read_dataset_and_create_df(dataset_dir='Dataset/input/affectnet', labels_csv='labels.csv', annotations_csv='test_outputs.csv'):\n",
    "    dir_path = os.getcwd()\n",
    "    path_dataset_dir = os.path.join(dir_path, dataset_dir)\n",
    "    path_sens_features = os.path.join(path_dataset_dir, annotations_csv)\n",
    "    path_csv_labels = os.path.join(path_dataset_dir, labels_csv)\n",
    "\n",
    "    csv_sf = pd.read_csv(path_sens_features)\n",
    "    csv_labels = pd.read_csv(path_csv_labels)\n",
    "    df = pd.merge(csv_sf, csv_labels, on=\"pth\")\n",
    "    return df"
   ]
  },
  {
   "cell_type": "code",
   "execution_count": 3,
   "id": "8b8ca5ce",
   "metadata": {},
   "outputs": [],
   "source": [
    "affect_net_df = read_dataset_and_create_df()"
   ]
  },
  {
   "cell_type": "code",
   "execution_count": 4,
   "id": "2620b5c7",
   "metadata": {},
   "outputs": [],
   "source": [
    "FER_2013_df = read_dataset_and_create_df(dataset_dir='Dataset\\input\\FER13', labels_csv='fer_13.csv')"
   ]
  },
  {
   "cell_type": "code",
   "execution_count": 5,
   "id": "9b4e8f9e",
   "metadata": {},
   "outputs": [],
   "source": [
    "ck_df = read_dataset_and_create_df(dataset_dir='Dataset\\input\\KC_extend', labels_csv='KC_extend.csv')"
   ]
  },
  {
   "cell_type": "code",
   "execution_count": 6,
   "id": "fbb79545",
   "metadata": {},
   "outputs": [],
   "source": [
    "emotic_df = read_dataset_and_create_df(dataset_dir='Dataset\\input\\emotic', labels_csv='emotic.csv')"
   ]
  },
  {
   "cell_type": "code",
   "execution_count": 7,
   "id": "a16b71a2",
   "metadata": {},
   "outputs": [],
   "source": [
    "from matplotlib import pyplot as plt\n",
    "\n",
    "def create_race4_annotation_plot(datasets_dict):\n",
    "    races4 = ['Asian', 'Black', 'Indian', 'White']\n",
    "    plot_dict = {}\n",
    "    datasets = datasets_dict.keys()\n",
    "#     for key, value in datasets_dict.items():\n",
    "#         percentage = []\n",
    "#         race4_lst = value['race4'].values.tolist()\n",
    "#         for race in races4:\n",
    "#             count = race4_lst.count(race)\n",
    "#             percentage.append(count/len(race4_lst))\n",
    "#         plot_dict[key] = percentage\n",
    "#         datasets.append(key)\n",
    "    for race in races4:\n",
    "        percentage = []\n",
    "        for key, value in datasets_dict.items():\n",
    "            race4_lst = value['race4'].values.tolist()   \n",
    "            count = race4_lst.count(race)\n",
    "            percentage.append(count/len(race4_lst))\n",
    "        plot_dict[race] = percentage\n",
    "    \n",
    "    plotdata = pd.DataFrame(plot_dict, index=datasets)\n",
    "    display(plotdata)\n",
    "    plotdata.plot(kind=\"bar\", stacked=True).legend(loc='upper center', ncol=4, title=\"RACES\")\n",
    "    plt.title(\"Dataset race annotation percentage\")\n",
    "    plt.xlabel(\"Dataset\")\n",
    "    plt.ylabel(\"Percentage\")\n",
    "    plt.ylim([0, 1.5])"
   ]
  },
  {
   "cell_type": "code",
   "execution_count": 8,
   "id": "db2256ef",
   "metadata": {},
   "outputs": [],
   "source": [
    "from matplotlib import pyplot as plt\n",
    "\n",
    "def create_race_annotation_plot(datasets_dict):\n",
    "    races = ['East Asian', 'Latino_Hispanic', 'Indian', 'Southeast Asian', 'Middle Eastern', 'Black', 'White']\n",
    "    plot_dict = {}\n",
    "    datasets = datasets_dict.keys()\n",
    "    for race in races:\n",
    "        percentage = []\n",
    "        for key, value in datasets_dict.items():\n",
    "            race4_lst = value['race'].values.tolist()   \n",
    "            count = race4_lst.count(race)\n",
    "            percentage.append(count/len(race4_lst))\n",
    "        plot_dict[race] = percentage\n",
    "    \n",
    "    plotdata = pd.DataFrame(plot_dict, index=datasets)\n",
    "    display(plotdata)\n",
    "    plotdata.plot(kind=\"bar\", stacked=True).legend(loc='upper center', ncol=3, title=\"RACES\")\n",
    "    plt.title(\"Dataset race annotation percentage\")\n",
    "    plt.xlabel(\"Dataset\")\n",
    "    plt.ylabel(\"Percentage\")\n",
    "    plt.ylim([0, 1.5])"
   ]
  },
  {
   "cell_type": "code",
   "execution_count": 9,
   "id": "eacd3f2a",
   "metadata": {},
   "outputs": [],
   "source": [
    "datasets_dict = {'AffectNet': affect_net_df, 'FER13': FER_2013_df, 'CK+':ck_df, 'EMOTIC':emotic_df}"
   ]
  },
  {
   "cell_type": "code",
   "execution_count": 10,
   "id": "b26cd588",
   "metadata": {},
   "outputs": [
    {
     "data": {
      "text/html": [
       "<div>\n",
       "<style scoped>\n",
       "    .dataframe tbody tr th:only-of-type {\n",
       "        vertical-align: middle;\n",
       "    }\n",
       "\n",
       "    .dataframe tbody tr th {\n",
       "        vertical-align: top;\n",
       "    }\n",
       "\n",
       "    .dataframe thead th {\n",
       "        text-align: right;\n",
       "    }\n",
       "</style>\n",
       "<table border=\"1\" class=\"dataframe\">\n",
       "  <thead>\n",
       "    <tr style=\"text-align: right;\">\n",
       "      <th></th>\n",
       "      <th>Asian</th>\n",
       "      <th>Black</th>\n",
       "      <th>Indian</th>\n",
       "      <th>White</th>\n",
       "    </tr>\n",
       "  </thead>\n",
       "  <tbody>\n",
       "    <tr>\n",
       "      <th>AffectNet</th>\n",
       "      <td>0.090683</td>\n",
       "      <td>0.084088</td>\n",
       "      <td>0.063431</td>\n",
       "      <td>0.761798</td>\n",
       "    </tr>\n",
       "    <tr>\n",
       "      <th>FER13</th>\n",
       "      <td>0.137682</td>\n",
       "      <td>0.105999</td>\n",
       "      <td>0.043247</td>\n",
       "      <td>0.713072</td>\n",
       "    </tr>\n",
       "    <tr>\n",
       "      <th>CK+</th>\n",
       "      <td>0.620652</td>\n",
       "      <td>0.218478</td>\n",
       "      <td>0.094565</td>\n",
       "      <td>0.066304</td>\n",
       "    </tr>\n",
       "    <tr>\n",
       "      <th>EMOTIC</th>\n",
       "      <td>0.137303</td>\n",
       "      <td>0.188982</td>\n",
       "      <td>0.066660</td>\n",
       "      <td>0.607056</td>\n",
       "    </tr>\n",
       "  </tbody>\n",
       "</table>\n",
       "</div>"
      ],
      "text/plain": [
       "              Asian     Black    Indian     White\n",
       "AffectNet  0.090683  0.084088  0.063431  0.761798\n",
       "FER13      0.137682  0.105999  0.043247  0.713072\n",
       "CK+        0.620652  0.218478  0.094565  0.066304\n",
       "EMOTIC     0.137303  0.188982  0.066660  0.607056"
      ]
     },
     "metadata": {},
     "output_type": "display_data"
    },
    {
     "data": {
      "image/png": "[encoded data removed]",
      "text/plain": [
       "<Figure size 432x288 with 1 Axes>"
      ]
     },
     "metadata": {
      "needs_background": "light"
     },
     "output_type": "display_data"
    }
   ],
   "source": [
    "create_race4_annotation_plot(datasets_dict)"
   ]
  },
  {
   "cell_type": "code",
   "execution_count": 11,
   "id": "219ac6a2",
   "metadata": {},
   "outputs": [
    {
     "data": {
      "text/html": [
       "<div>\n",
       "<style scoped>\n",
       "    .dataframe tbody tr th:only-of-type {\n",
       "        vertical-align: middle;\n",
       "    }\n",
       "\n",
       "    .dataframe tbody tr th {\n",
       "        vertical-align: top;\n",
       "    }\n",
       "\n",
       "    .dataframe thead th {\n",
       "        text-align: right;\n",
       "    }\n",
       "</style>\n",
       "<table border=\"1\" class=\"dataframe\">\n",
       "  <thead>\n",
       "    <tr style=\"text-align: right;\">\n",
       "      <th></th>\n",
       "      <th>East Asian</th>\n",
       "      <th>Latino_Hispanic</th>\n",
       "      <th>Indian</th>\n",
       "      <th>Southeast Asian</th>\n",
       "      <th>Middle Eastern</th>\n",
       "      <th>Black</th>\n",
       "      <th>White</th>\n",
       "    </tr>\n",
       "  </thead>\n",
       "  <tbody>\n",
       "    <tr>\n",
       "      <th>AffectNet</th>\n",
       "      <td>0.059937</td>\n",
       "      <td>0.101915</td>\n",
       "      <td>0.025041</td>\n",
       "      <td>0.016238</td>\n",
       "      <td>0.077521</td>\n",
       "      <td>0.075247</td>\n",
       "      <td>0.644100</td>\n",
       "    </tr>\n",
       "    <tr>\n",
       "      <th>FER13</th>\n",
       "      <td>0.083261</td>\n",
       "      <td>0.043163</td>\n",
       "      <td>0.018642</td>\n",
       "      <td>0.024577</td>\n",
       "      <td>0.052888</td>\n",
       "      <td>0.099395</td>\n",
       "      <td>0.678073</td>\n",
       "    </tr>\n",
       "    <tr>\n",
       "      <th>CK+</th>\n",
       "      <td>0.359783</td>\n",
       "      <td>0.033696</td>\n",
       "      <td>0.056522</td>\n",
       "      <td>0.058696</td>\n",
       "      <td>0.088043</td>\n",
       "      <td>0.277174</td>\n",
       "      <td>0.126087</td>\n",
       "    </tr>\n",
       "    <tr>\n",
       "      <th>EMOTIC</th>\n",
       "      <td>0.243006</td>\n",
       "      <td>0.047297</td>\n",
       "      <td>0.019348</td>\n",
       "      <td>0.018834</td>\n",
       "      <td>0.067751</td>\n",
       "      <td>0.060185</td>\n",
       "      <td>0.543578</td>\n",
       "    </tr>\n",
       "  </tbody>\n",
       "</table>\n",
       "</div>"
      ],
      "text/plain": [
       "           East Asian  Latino_Hispanic    Indian  Southeast Asian  \\\n",
       "AffectNet    0.059937         0.101915  0.025041         0.016238   \n",
       "FER13        0.083261         0.043163  0.018642         0.024577   \n",
       "CK+          0.359783         0.033696  0.056522         0.058696   \n",
       "EMOTIC       0.243006         0.047297  0.019348         0.018834   \n",
       "\n",
       "           Middle Eastern     Black     White  \n",
       "AffectNet        0.077521  0.075247  0.644100  \n",
       "FER13            0.052888  0.099395  0.678073  \n",
       "CK+              0.088043  0.277174  0.126087  \n",
       "EMOTIC           0.067751  0.060185  0.543578  "
      ]
     },
     "metadata": {},
     "output_type": "display_data"
    },
    {
     "data": {
      "image/png": "[encoded data removed]",
      "text/plain": [
       "<Figure size 432x288 with 1 Axes>"
      ]
     },
     "metadata": {
      "needs_background": "light"
     },
     "output_type": "display_data"
    }
   ],
   "source": [
    "create_race_annotation_plot(datasets_dict)"
   ]
  },
  {
   "cell_type": "code",
   "execution_count": 12,
   "id": "5cc00f19",
   "metadata": {},
   "outputs": [],
   "source": [
    "def create_datasets_df_per_emotion_class(datasets_dict):\n",
    "    datasets = datasets_dict.keys()\n",
    "    emotions_classes = ['anger', 'contempt', 'disgust', 'fear', 'sad', 'surprise', 'happy', 'neutral']\n",
    "    emotion_dict = {}\n",
    "    emotion_dict_2 = {}\n",
    "    for emotion in emotions_classes:\n",
    "        emotion_lst = []\n",
    "        emotion_percentage_list = []\n",
    "        for key, value in datasets_dict.items():\n",
    "            emotions = value['label'].values.tolist()\n",
    "            count = emotions.count(emotion)\n",
    "            emotion_lst.append(count)\n",
    "            emotion_percentage_list.append(count/len(emotions))\n",
    "        emotion_dict[emotion] = emotion_percentage_list\n",
    "        emotion_dict_2[emotion] = emotion_lst\n",
    "    \n",
    "    df = pd.DataFrame(emotion_dict, index=datasets)\n",
    "    df2 = pd.DataFrame(emotion_dict_2, index=datasets)\n",
    "    display(df)\n",
    "    display(df2)\n",
    "    return df, df2"
   ]
  },
  {
   "cell_type": "code",
   "execution_count": 13,
   "id": "1c1680e3",
   "metadata": {},
   "outputs": [],
   "source": [
    "datasets_dict = {'affectNet': affect_net_df, 'FER13': FER_2013_df, 'CK+':ck_df}"
   ]
  },
  {
   "cell_type": "code",
   "execution_count": 14,
   "id": "ba873bc3",
   "metadata": {},
   "outputs": [
    {
     "data": {
      "text/html": [
       "<div>\n",
       "<style scoped>\n",
       "    .dataframe tbody tr th:only-of-type {\n",
       "        vertical-align: middle;\n",
       "    }\n",
       "\n",
       "    .dataframe tbody tr th {\n",
       "        vertical-align: top;\n",
       "    }\n",
       "\n",
       "    .dataframe thead th {\n",
       "        text-align: right;\n",
       "    }\n",
       "</style>\n",
       "<table border=\"1\" class=\"dataframe\">\n",
       "  <thead>\n",
       "    <tr style=\"text-align: right;\">\n",
       "      <th></th>\n",
       "      <th>anger</th>\n",
       "      <th>contempt</th>\n",
       "      <th>disgust</th>\n",
       "      <th>fear</th>\n",
       "      <th>sad</th>\n",
       "      <th>surprise</th>\n",
       "      <th>happy</th>\n",
       "      <th>neutral</th>\n",
       "    </tr>\n",
       "  </thead>\n",
       "  <tbody>\n",
       "    <tr>\n",
       "      <th>affectNet</th>\n",
       "      <td>0.086501</td>\n",
       "      <td>0.013037</td>\n",
       "      <td>0.013221</td>\n",
       "      <td>0.022173</td>\n",
       "      <td>0.088507</td>\n",
       "      <td>0.048983</td>\n",
       "      <td>0.467285</td>\n",
       "      <td>0.260295</td>\n",
       "    </tr>\n",
       "    <tr>\n",
       "      <th>FER13</th>\n",
       "      <td>0.000000</td>\n",
       "      <td>0.000000</td>\n",
       "      <td>0.015242</td>\n",
       "      <td>0.142698</td>\n",
       "      <td>0.169337</td>\n",
       "      <td>0.111517</td>\n",
       "      <td>0.250481</td>\n",
       "      <td>0.172709</td>\n",
       "    </tr>\n",
       "    <tr>\n",
       "      <th>CK+</th>\n",
       "      <td>0.048913</td>\n",
       "      <td>0.019565</td>\n",
       "      <td>0.064130</td>\n",
       "      <td>0.027174</td>\n",
       "      <td>0.000000</td>\n",
       "      <td>0.090217</td>\n",
       "      <td>0.000000</td>\n",
       "      <td>0.644565</td>\n",
       "    </tr>\n",
       "  </tbody>\n",
       "</table>\n",
       "</div>"
      ],
      "text/plain": [
       "              anger  contempt   disgust      fear       sad  surprise  \\\n",
       "affectNet  0.086501  0.013037  0.013221  0.022173  0.088507  0.048983   \n",
       "FER13      0.000000  0.000000  0.015242  0.142698  0.169337  0.111517   \n",
       "CK+        0.048913  0.019565  0.064130  0.027174  0.000000  0.090217   \n",
       "\n",
       "              happy   neutral  \n",
       "affectNet  0.467285  0.260295  \n",
       "FER13      0.250481  0.172709  \n",
       "CK+        0.000000  0.644565  "
      ]
     },
     "metadata": {},
     "output_type": "display_data"
    },
    {
     "data": {
      "text/html": [
       "<div>\n",
       "<style scoped>\n",
       "    .dataframe tbody tr th:only-of-type {\n",
       "        vertical-align: middle;\n",
       "    }\n",
       "\n",
       "    .dataframe tbody tr th {\n",
       "        vertical-align: top;\n",
       "    }\n",
       "\n",
       "    .dataframe thead th {\n",
       "        text-align: right;\n",
       "    }\n",
       "</style>\n",
       "<table border=\"1\" class=\"dataframe\">\n",
       "  <thead>\n",
       "    <tr style=\"text-align: right;\">\n",
       "      <th></th>\n",
       "      <th>anger</th>\n",
       "      <th>contempt</th>\n",
       "      <th>disgust</th>\n",
       "      <th>fear</th>\n",
       "      <th>sad</th>\n",
       "      <th>surprise</th>\n",
       "      <th>happy</th>\n",
       "      <th>neutral</th>\n",
       "    </tr>\n",
       "  </thead>\n",
       "  <tbody>\n",
       "    <tr>\n",
       "      <th>affectNet</th>\n",
       "      <td>24882</td>\n",
       "      <td>3750</td>\n",
       "      <td>3803</td>\n",
       "      <td>6378</td>\n",
       "      <td>25459</td>\n",
       "      <td>14090</td>\n",
       "      <td>134415</td>\n",
       "      <td>74874</td>\n",
       "    </tr>\n",
       "    <tr>\n",
       "      <th>FER13</th>\n",
       "      <td>0</td>\n",
       "      <td>0</td>\n",
       "      <td>547</td>\n",
       "      <td>5121</td>\n",
       "      <td>6077</td>\n",
       "      <td>4002</td>\n",
       "      <td>8989</td>\n",
       "      <td>6198</td>\n",
       "    </tr>\n",
       "    <tr>\n",
       "      <th>CK+</th>\n",
       "      <td>45</td>\n",
       "      <td>18</td>\n",
       "      <td>59</td>\n",
       "      <td>25</td>\n",
       "      <td>0</td>\n",
       "      <td>83</td>\n",
       "      <td>0</td>\n",
       "      <td>593</td>\n",
       "    </tr>\n",
       "  </tbody>\n",
       "</table>\n",
       "</div>"
      ],
      "text/plain": [
       "           anger  contempt  disgust  fear    sad  surprise   happy  neutral\n",
       "affectNet  24882      3750     3803  6378  25459     14090  134415    74874\n",
       "FER13          0         0      547  5121   6077      4002    8989     6198\n",
       "CK+           45        18       59    25      0        83       0      593"
      ]
     },
     "metadata": {},
     "output_type": "display_data"
    },
    {
     "data": {
      "text/plain": [
       "(              anger  contempt   disgust      fear       sad  surprise  \\\n",
       " affectNet  0.086501  0.013037  0.013221  0.022173  0.088507  0.048983   \n",
       " FER13      0.000000  0.000000  0.015242  0.142698  0.169337  0.111517   \n",
       " CK+        0.048913  0.019565  0.064130  0.027174  0.000000  0.090217   \n",
       " \n",
       "               happy   neutral  \n",
       " affectNet  0.467285  0.260295  \n",
       " FER13      0.250481  0.172709  \n",
       " CK+        0.000000  0.644565  ,\n",
       "            anger  contempt  disgust  fear    sad  surprise   happy  neutral\n",
       " affectNet  24882      3750     3803  6378  25459     14090  134415    74874\n",
       " FER13          0         0      547  5121   6077      4002    8989     6198\n",
       " CK+           45        18       59    25      0        83       0      593)"
      ]
     },
     "execution_count": 14,
     "metadata": {},
     "output_type": "execute_result"
    }
   ],
   "source": [
    "create_datasets_df_per_emotion_class(datasets_dict)"
   ]
  },
  {
   "cell_type": "code",
   "execution_count": 15,
   "id": "cced98e6",
   "metadata": {},
   "outputs": [],
   "source": [
    "affectNet_dict = {'affectNet': affect_net_df}"
   ]
  },
  {
   "cell_type": "code",
   "execution_count": 16,
   "id": "8fe06e78",
   "metadata": {},
   "outputs": [
    {
     "data": {
      "text/html": [
       "<div>\n",
       "<style scoped>\n",
       "    .dataframe tbody tr th:only-of-type {\n",
       "        vertical-align: middle;\n",
       "    }\n",
       "\n",
       "    .dataframe tbody tr th {\n",
       "        vertical-align: top;\n",
       "    }\n",
       "\n",
       "    .dataframe thead th {\n",
       "        text-align: right;\n",
       "    }\n",
       "</style>\n",
       "<table border=\"1\" class=\"dataframe\">\n",
       "  <thead>\n",
       "    <tr style=\"text-align: right;\">\n",
       "      <th></th>\n",
       "      <th>anger</th>\n",
       "      <th>contempt</th>\n",
       "      <th>disgust</th>\n",
       "      <th>fear</th>\n",
       "      <th>sad</th>\n",
       "      <th>surprise</th>\n",
       "      <th>happy</th>\n",
       "      <th>neutral</th>\n",
       "    </tr>\n",
       "  </thead>\n",
       "  <tbody>\n",
       "    <tr>\n",
       "      <th>affectNet</th>\n",
       "      <td>0.086501</td>\n",
       "      <td>0.013037</td>\n",
       "      <td>0.013221</td>\n",
       "      <td>0.022173</td>\n",
       "      <td>0.088507</td>\n",
       "      <td>0.048983</td>\n",
       "      <td>0.467285</td>\n",
       "      <td>0.260295</td>\n",
       "    </tr>\n",
       "  </tbody>\n",
       "</table>\n",
       "</div>"
      ],
      "text/plain": [
       "              anger  contempt   disgust      fear       sad  surprise  \\\n",
       "affectNet  0.086501  0.013037  0.013221  0.022173  0.088507  0.048983   \n",
       "\n",
       "              happy   neutral  \n",
       "affectNet  0.467285  0.260295  "
      ]
     },
     "metadata": {},
     "output_type": "display_data"
    },
    {
     "data": {
      "text/html": [
       "<div>\n",
       "<style scoped>\n",
       "    .dataframe tbody tr th:only-of-type {\n",
       "        vertical-align: middle;\n",
       "    }\n",
       "\n",
       "    .dataframe tbody tr th {\n",
       "        vertical-align: top;\n",
       "    }\n",
       "\n",
       "    .dataframe thead th {\n",
       "        text-align: right;\n",
       "    }\n",
       "</style>\n",
       "<table border=\"1\" class=\"dataframe\">\n",
       "  <thead>\n",
       "    <tr style=\"text-align: right;\">\n",
       "      <th></th>\n",
       "      <th>anger</th>\n",
       "      <th>contempt</th>\n",
       "      <th>disgust</th>\n",
       "      <th>fear</th>\n",
       "      <th>sad</th>\n",
       "      <th>surprise</th>\n",
       "      <th>happy</th>\n",
       "      <th>neutral</th>\n",
       "    </tr>\n",
       "  </thead>\n",
       "  <tbody>\n",
       "    <tr>\n",
       "      <th>affectNet</th>\n",
       "      <td>24882</td>\n",
       "      <td>3750</td>\n",
       "      <td>3803</td>\n",
       "      <td>6378</td>\n",
       "      <td>25459</td>\n",
       "      <td>14090</td>\n",
       "      <td>134415</td>\n",
       "      <td>74874</td>\n",
       "    </tr>\n",
       "  </tbody>\n",
       "</table>\n",
       "</div>"
      ],
      "text/plain": [
       "           anger  contempt  disgust  fear    sad  surprise   happy  neutral\n",
       "affectNet  24882      3750     3803  6378  25459     14090  134415    74874"
      ]
     },
     "metadata": {},
     "output_type": "display_data"
    }
   ],
   "source": [
    "df_percentage, df_total_classes = create_datasets_df_per_emotion_class(affectNet_dict)"
   ]
  },
  {
   "cell_type": "code",
   "execution_count": 17,
   "id": "31c0e093",
   "metadata": {},
   "outputs": [
    {
     "data": {
      "text/plain": [
       "<AxesSubplot:>"
      ]
     },
     "execution_count": 17,
     "metadata": {},
     "output_type": "execute_result"
    },
    {
     "data": {
      "image/png": "[encoded data removed]",
      "text/plain": [
       "<Figure size 432x288 with 1 Axes>"
      ]
     },
     "metadata": {
      "needs_background": "light"
     },
     "output_type": "display_data"
    }
   ],
   "source": [
    "df_percentage.plot(kind='bar', edgecolor='white', linewidth=3)"
   ]
  },
  {
   "cell_type": "code",
   "execution_count": 18,
   "id": "e63aa6a4",
   "metadata": {},
   "outputs": [],
   "source": [
    "affect_net_balance = read_dataset_and_create_df(labels_csv='balance_dataset_labels.csv', annotations_csv='balance_dataset_annotations.csv')"
   ]
  },
  {
   "cell_type": "code",
   "execution_count": 20,
   "id": "198f63a2",
   "metadata": {},
   "outputs": [],
   "source": [
    "affectNet_dict = {'affectNet': affect_net_df, 'affectNet Balance': affect_net_balance} "
   ]
  },
  {
   "cell_type": "code",
   "execution_count": 21,
   "id": "2eab6f16",
   "metadata": {},
   "outputs": [
    {
     "data": {
      "text/html": [
       "<div>\n",
       "<style scoped>\n",
       "    .dataframe tbody tr th:only-of-type {\n",
       "        vertical-align: middle;\n",
       "    }\n",
       "\n",
       "    .dataframe tbody tr th {\n",
       "        vertical-align: top;\n",
       "    }\n",
       "\n",
       "    .dataframe thead th {\n",
       "        text-align: right;\n",
       "    }\n",
       "</style>\n",
       "<table border=\"1\" class=\"dataframe\">\n",
       "  <thead>\n",
       "    <tr style=\"text-align: right;\">\n",
       "      <th></th>\n",
       "      <th>anger</th>\n",
       "      <th>contempt</th>\n",
       "      <th>disgust</th>\n",
       "      <th>fear</th>\n",
       "      <th>sad</th>\n",
       "      <th>surprise</th>\n",
       "      <th>happy</th>\n",
       "      <th>neutral</th>\n",
       "    </tr>\n",
       "  </thead>\n",
       "  <tbody>\n",
       "    <tr>\n",
       "      <th>affectNet</th>\n",
       "      <td>0.086501</td>\n",
       "      <td>0.013037</td>\n",
       "      <td>0.013221</td>\n",
       "      <td>0.022173</td>\n",
       "      <td>0.088507</td>\n",
       "      <td>0.048983</td>\n",
       "      <td>0.467285</td>\n",
       "      <td>0.260295</td>\n",
       "    </tr>\n",
       "    <tr>\n",
       "      <th>affectNet Balance</th>\n",
       "      <td>0.143146</td>\n",
       "      <td>0.143223</td>\n",
       "      <td>0.068136</td>\n",
       "      <td>0.084139</td>\n",
       "      <td>0.143146</td>\n",
       "      <td>0.131918</td>\n",
       "      <td>0.143146</td>\n",
       "      <td>0.143146</td>\n",
       "    </tr>\n",
       "  </tbody>\n",
       "</table>\n",
       "</div>"
      ],
      "text/plain": [
       "                      anger  contempt   disgust      fear       sad  surprise  \\\n",
       "affectNet          0.086501  0.013037  0.013221  0.022173  0.088507  0.048983   \n",
       "affectNet Balance  0.143146  0.143223  0.068136  0.084139  0.143146  0.131918   \n",
       "\n",
       "                      happy   neutral  \n",
       "affectNet          0.467285  0.260295  \n",
       "affectNet Balance  0.143146  0.143146  "
      ]
     },
     "metadata": {},
     "output_type": "display_data"
    },
    {
     "data": {
      "text/html": [
       "<div>\n",
       "<style scoped>\n",
       "    .dataframe tbody tr th:only-of-type {\n",
       "        vertical-align: middle;\n",
       "    }\n",
       "\n",
       "    .dataframe tbody tr th {\n",
       "        vertical-align: top;\n",
       "    }\n",
       "\n",
       "    .dataframe thead th {\n",
       "        text-align: right;\n",
       "    }\n",
       "</style>\n",
       "<table border=\"1\" class=\"dataframe\">\n",
       "  <thead>\n",
       "    <tr style=\"text-align: right;\">\n",
       "      <th></th>\n",
       "      <th>anger</th>\n",
       "      <th>contempt</th>\n",
       "      <th>disgust</th>\n",
       "      <th>fear</th>\n",
       "      <th>sad</th>\n",
       "      <th>surprise</th>\n",
       "      <th>happy</th>\n",
       "      <th>neutral</th>\n",
       "    </tr>\n",
       "  </thead>\n",
       "  <tbody>\n",
       "    <tr>\n",
       "      <th>affectNet</th>\n",
       "      <td>24882</td>\n",
       "      <td>3750</td>\n",
       "      <td>3803</td>\n",
       "      <td>6378</td>\n",
       "      <td>25459</td>\n",
       "      <td>14090</td>\n",
       "      <td>134415</td>\n",
       "      <td>74874</td>\n",
       "    </tr>\n",
       "    <tr>\n",
       "      <th>affectNet Balance</th>\n",
       "      <td>3748</td>\n",
       "      <td>3750</td>\n",
       "      <td>1784</td>\n",
       "      <td>2203</td>\n",
       "      <td>3748</td>\n",
       "      <td>3454</td>\n",
       "      <td>3748</td>\n",
       "      <td>3748</td>\n",
       "    </tr>\n",
       "  </tbody>\n",
       "</table>\n",
       "</div>"
      ],
      "text/plain": [
       "                   anger  contempt  disgust  fear    sad  surprise   happy  \\\n",
       "affectNet          24882      3750     3803  6378  25459     14090  134415   \n",
       "affectNet Balance   3748      3750     1784  2203   3748      3454    3748   \n",
       "\n",
       "                   neutral  \n",
       "affectNet            74874  \n",
       "affectNet Balance     3748  "
      ]
     },
     "metadata": {},
     "output_type": "display_data"
    }
   ],
   "source": [
    "df_percentage, df_total_classes = create_datasets_df_per_emotion_class(affectNet_dict)"
   ]
  },
  {
   "cell_type": "code",
   "execution_count": 22,
   "id": "cc4b56a4",
   "metadata": {},
   "outputs": [
    {
     "data": {
      "text/plain": [
       "<AxesSubplot:>"
      ]
     },
     "execution_count": 22,
     "metadata": {},
     "output_type": "execute_result"
    },
    {
     "data": {
      "image/png": "[encoded data removed]",
      "text/plain": [
       "<Figure size 432x288 with 1 Axes>"
      ]
     },
     "metadata": {
      "needs_background": "light"
     },
     "output_type": "display_data"
    }
   ],
   "source": [
    "df_percentage.plot(kind='bar', edgecolor='white', linewidth=3)"
   ]
  },
  {
   "cell_type": "code",
   "execution_count": null,
   "id": "bcdf4792",
   "metadata": {},
   "outputs": [],
   "source": []
  }
 ],
 "metadata": {
  "kernelspec": {
   "display_name": "Python 3 (ipykernel)",
   "language": "python",
   "name": "python3"
  },
  "language_info": {
   "codemirror_mode": {
    "name": "ipython",
    "version": 3
   },
   "file_extension": ".py",
   "mimetype": "text/x-python",
   "name": "python",
   "nbconvert_exporter": "python",
   "pygments_lexer": "ipython3",
   "version": "3.7.11"
  }
 },
 "nbformat": 4,
 "nbformat_minor": 5
}
