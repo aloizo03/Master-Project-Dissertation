{
 "cells": [
  {
   "cell_type": "code",
   "execution_count": 14,
   "id": "6f7157b8",
   "metadata": {},
   "outputs": [],
   "source": [
    "import os\n",
    "import pandas as pd\n",
    "import numpy as np\n",
    "import cv2\n",
    "from operator import itemgetter"
   ]
  },
  {
   "cell_type": "code",
   "execution_count": 30,
   "id": "d9c1e955",
   "metadata": {},
   "outputs": [],
   "source": [
    "def create_affectNet_csv(dataset_path='Dataset\\input', sub_paths=['train_set', 'val_set'], filenames=['labels.csv', 'val_labels.csv']):\n",
    "    dir_path = os.getcwd()\n",
    "    path_dataset_dir = os.path.join(dir_path, dataset_path)\n",
    "    path_dataset_dir = os.path.join(path_dataset_dir, 'affectnet')\n",
    "    image_filename_lst = []\n",
    "    label_lst = []\n",
    "    from_id_to_emotion =  {0:'neutral', 1:'happy', 2:'sad', 3:'surprise', 4:'fear', 5:'disgust', 6:'anger', 7: 'contempt'}\n",
    "    for path, output in zip(sub_paths, filenames):\n",
    "        image_filename_lst = []\n",
    "        label_lst = []\n",
    "        \n",
    "        path_dataset = os.path.join(path_dataset_dir, path)\n",
    "        path_dataset_images = os.path.join(path_dataset, 'images')\n",
    "        path_dataset_annotations = os.path.join(path_dataset, 'annotations')\n",
    "        arr = os.listdir(path_dataset_images)\n",
    "        for pth in arr:\n",
    "            filename_without_ext = os.path.splitext(pth)[0]\n",
    "            aro_filename = f'{filename_without_ext}_aro.npy'\n",
    "            exp_filename = f'{filename_without_ext}_exp.npy'\n",
    "            lnd_filename = f'{filename_without_ext}_lnd.npy'\n",
    "            val_filename = f'{filename_without_ext}_val.npy'\n",
    "            \n",
    "            filename = os.path.join(path_dataset_annotations, exp_filename)            \n",
    "            image_exp = np.load(filename)\n",
    "            \n",
    "            filename = os.path.join(path_dataset_annotations, lnd_filename)\n",
    "            image_lnd = np.load(filename)\n",
    "            \n",
    "            filename = os.path.join(path_dataset_annotations, val_filename)\n",
    "            image_val = np.load(filename)\n",
    "            \n",
    "            filename = os.path.join(path_dataset_annotations, aro_filename)\n",
    "            image_aro = np.load(filename)\n",
    "            \n",
    "            img_filename = os.path.join(path, 'images')\n",
    "            img_filename = os.path.join(img_filename, pth)\n",
    "            image_filename_lst.append(img_filename)\n",
    "            \n",
    "            label_lst.append(from_id_to_emotion[int(image_exp)])\n",
    "            \n",
    "        data = {'pth': image_filename_lst,\n",
    "                'label': label_lst}\n",
    "\n",
    "        df = pd.DataFrame(data)\n",
    "        csv_dir = os.path.join(path_dataset_dir, output)\n",
    "        df.to_csv(csv_dir, index=False)\n",
    "            "
   ]
  },
  {
   "cell_type": "code",
   "execution_count": 63,
   "id": "392dc464",
   "metadata": {},
   "outputs": [],
   "source": [
    "def create_balance_affect_Net_csv(dataset_dir='Dataset/input/affectnet', labels_csv='labels.csv', annotations_csv='test_outputs.csv'):\n",
    "    dir_path = os.getcwd()\n",
    "    path_dataset_dir = os.path.join(dir_path, dataset_dir)\n",
    "    path_sens_features = os.path.join(path_dataset_dir, annotations_csv)\n",
    "    path_csv_labels = os.path.join(path_dataset_dir, labels_csv)\n",
    "    \n",
    "    csv_sf = pd.read_csv(path_sens_features)\n",
    "    csv_labels = pd.read_csv(path_csv_labels)\n",
    "    df = pd.merge(csv_sf, csv_labels, on=\"pth\")\n",
    "    \n",
    "    label_values = df['label'].values.tolist()\n",
    "    emotion_classes = list(set(df['label'].values.tolist()))\n",
    "    emotion_labels_count = [label_values.count(emotion) for emotion in emotion_classes]\n",
    "    \n",
    "    index_min = min(enumerate(emotion_labels_count), key=itemgetter(1))[0] \n",
    "    min_emotion = emotion_classes[index_min]\n",
    "    \n",
    "    balance_dataframe = df.loc[df['label'] == min_emotion]\n",
    "    min_emotions_values = emotion_labels_count[index_min]\n",
    "    \n",
    "    emotion_classes.remove(min_emotion)\n",
    "    race4 = ['Black', 'White', 'Indian', 'Asian']\n",
    "    equal_value = int(min_emotions_values/len(race4))\n",
    "    for emotion in emotion_classes:\n",
    "        df_emotion = df.loc[df['label'] == emotion]\n",
    "        for race in race4:\n",
    "            df_emotion_per_race = df_emotion[df_emotion['race4'] == race]\n",
    "            df_emotion_per_race = df_emotion_per_race.iloc[:equal_value]\n",
    "            balance_dataframe = pd.concat([balance_dataframe, df_emotion_per_race])\n",
    "#         df_emotion = df_emotion.iloc[:min_emotions_values]\n",
    "#         balance_dataframe = pd.concat([df_emotion, balance_dataframe])\n",
    "    df_labels = balance_dataframe[['pth', 'label']]\n",
    "    df_race_annotations = balance_dataframe[['pth', 'race', 'race4', 'gender', 'age', 'race_scores_fair', 'race_scores_fair_4', 'gender_scores_fair', 'age_scores_fair']]\n",
    "    \n",
    "    balance_dataset_dir = os.path.join(path_dataset_dir, 'balance_dataset_labels.csv')\n",
    "    df_labels.to_csv(df_labels, index=False)\n",
    "    \n",
    "    balance_dataset_dir = os.path.join(path_dataset_dir, 'balance_dataset_annotations.csv')\n",
    "    df_race_annotations.to_csv(df_race_annotations, index=False)\n",
    "    return balance_dataframe"
   ]
  },
  {
   "cell_type": "code",
   "execution_count": 64,
   "id": "74947986",
   "metadata": {},
   "outputs": [
    {
     "ename": "TypeError",
     "evalue": "argument of type 'method' is not iterable",
     "output_type": "error",
     "traceback": [
      "\u001b[1;31m---------------------------------------------------------------------------\u001b[0m",
      "\u001b[1;31mTypeError\u001b[0m                                 Traceback (most recent call last)",
      "\u001b[1;32m~\\AppData\\Local\\Temp/ipykernel_42152/3290630301.py\u001b[0m in \u001b[0;36m<module>\u001b[1;34m\u001b[0m\n\u001b[1;32m----> 1\u001b[1;33m \u001b[0mdf\u001b[0m \u001b[1;33m=\u001b[0m \u001b[0mcreate_balance_affect_Net_csv\u001b[0m\u001b[1;33m(\u001b[0m\u001b[1;33m)\u001b[0m\u001b[1;33m\u001b[0m\u001b[1;33m\u001b[0m\u001b[0m\n\u001b[0m",
      "\u001b[1;32m~\\AppData\\Local\\Temp/ipykernel_42152/1111399855.py\u001b[0m in \u001b[0;36mcreate_balance_affect_Net_csv\u001b[1;34m(dataset_dir, labels_csv, annotations_csv)\u001b[0m\n\u001b[0;32m     33\u001b[0m     \u001b[0mdf_race_annotations\u001b[0m \u001b[1;33m=\u001b[0m \u001b[0mbalance_dataframe\u001b[0m\u001b[1;33m[\u001b[0m\u001b[1;33m[\u001b[0m\u001b[1;34m'pth'\u001b[0m\u001b[1;33m,\u001b[0m \u001b[1;34m'race'\u001b[0m\u001b[1;33m,\u001b[0m \u001b[1;34m'race4'\u001b[0m\u001b[1;33m,\u001b[0m \u001b[1;34m'gender'\u001b[0m\u001b[1;33m,\u001b[0m \u001b[1;34m'age'\u001b[0m\u001b[1;33m,\u001b[0m \u001b[1;34m'race_scores_fair'\u001b[0m\u001b[1;33m,\u001b[0m \u001b[1;34m'race_scores_fair_4'\u001b[0m\u001b[1;33m,\u001b[0m \u001b[1;34m'gender_scores_fair'\u001b[0m\u001b[1;33m,\u001b[0m \u001b[1;34m'age_scores_fair'\u001b[0m\u001b[1;33m]\u001b[0m\u001b[1;33m]\u001b[0m\u001b[1;33m\u001b[0m\u001b[1;33m\u001b[0m\u001b[0m\n\u001b[0;32m     34\u001b[0m     \u001b[0mbalance_dataset_dir\u001b[0m \u001b[1;33m=\u001b[0m \u001b[0mos\u001b[0m\u001b[1;33m.\u001b[0m\u001b[0mpath\u001b[0m\u001b[1;33m.\u001b[0m\u001b[0mjoin\u001b[0m\u001b[1;33m(\u001b[0m\u001b[0mpath_dataset_dir\u001b[0m\u001b[1;33m,\u001b[0m \u001b[1;34m'balance_dataset_labels.csv'\u001b[0m\u001b[1;33m)\u001b[0m\u001b[1;33m\u001b[0m\u001b[1;33m\u001b[0m\u001b[0m\n\u001b[1;32m---> 35\u001b[1;33m     \u001b[0mdf_labels\u001b[0m\u001b[1;33m.\u001b[0m\u001b[0mto_csv\u001b[0m\u001b[1;33m(\u001b[0m\u001b[0mdf_labels\u001b[0m\u001b[1;33m,\u001b[0m \u001b[0mindex\u001b[0m\u001b[1;33m=\u001b[0m\u001b[1;32mFalse\u001b[0m\u001b[1;33m)\u001b[0m\u001b[1;33m\u001b[0m\u001b[1;33m\u001b[0m\u001b[0m\n\u001b[0m\u001b[0;32m     36\u001b[0m \u001b[1;33m\u001b[0m\u001b[0m\n\u001b[0;32m     37\u001b[0m     \u001b[0mbalance_dataset_dir\u001b[0m \u001b[1;33m=\u001b[0m \u001b[0mos\u001b[0m\u001b[1;33m.\u001b[0m\u001b[0mpath\u001b[0m\u001b[1;33m.\u001b[0m\u001b[0mjoin\u001b[0m\u001b[1;33m(\u001b[0m\u001b[0mpath_dataset_dir\u001b[0m\u001b[1;33m,\u001b[0m \u001b[1;34m'balance_dataset_annotations.csv'\u001b[0m\u001b[1;33m)\u001b[0m\u001b[1;33m\u001b[0m\u001b[1;33m\u001b[0m\u001b[0m\n",
      "\u001b[1;32m~\\anaconda3\\envs\\DL_env\\lib\\site-packages\\pandas\\core\\generic.py\u001b[0m in \u001b[0;36mto_csv\u001b[1;34m(self, path_or_buf, sep, na_rep, float_format, columns, header, index, index_label, mode, encoding, compression, quoting, quotechar, line_terminator, chunksize, date_format, doublequote, escapechar, decimal, errors, storage_options)\u001b[0m\n\u001b[0;32m   3480\u001b[0m             \u001b[0mdoublequote\u001b[0m\u001b[1;33m=\u001b[0m\u001b[0mdoublequote\u001b[0m\u001b[1;33m,\u001b[0m\u001b[1;33m\u001b[0m\u001b[1;33m\u001b[0m\u001b[0m\n\u001b[0;32m   3481\u001b[0m             \u001b[0mescapechar\u001b[0m\u001b[1;33m=\u001b[0m\u001b[0mescapechar\u001b[0m\u001b[1;33m,\u001b[0m\u001b[1;33m\u001b[0m\u001b[1;33m\u001b[0m\u001b[0m\n\u001b[1;32m-> 3482\u001b[1;33m             \u001b[0mstorage_options\u001b[0m\u001b[1;33m=\u001b[0m\u001b[0mstorage_options\u001b[0m\u001b[1;33m,\u001b[0m\u001b[1;33m\u001b[0m\u001b[1;33m\u001b[0m\u001b[0m\n\u001b[0m\u001b[0;32m   3483\u001b[0m         )\n\u001b[0;32m   3484\u001b[0m \u001b[1;33m\u001b[0m\u001b[0m\n",
      "\u001b[1;32m~\\anaconda3\\envs\\DL_env\\lib\\site-packages\\pandas\\io\\formats\\format.py\u001b[0m in \u001b[0;36mto_csv\u001b[1;34m(self, path_or_buf, encoding, sep, columns, index_label, mode, compression, quoting, quotechar, line_terminator, chunksize, date_format, doublequote, escapechar, errors, storage_options)\u001b[0m\n\u001b[0;32m   1103\u001b[0m             \u001b[0mformatter\u001b[0m\u001b[1;33m=\u001b[0m\u001b[0mself\u001b[0m\u001b[1;33m.\u001b[0m\u001b[0mfmt\u001b[0m\u001b[1;33m,\u001b[0m\u001b[1;33m\u001b[0m\u001b[1;33m\u001b[0m\u001b[0m\n\u001b[0;32m   1104\u001b[0m         )\n\u001b[1;32m-> 1105\u001b[1;33m         \u001b[0mcsv_formatter\u001b[0m\u001b[1;33m.\u001b[0m\u001b[0msave\u001b[0m\u001b[1;33m(\u001b[0m\u001b[1;33m)\u001b[0m\u001b[1;33m\u001b[0m\u001b[1;33m\u001b[0m\u001b[0m\n\u001b[0m\u001b[0;32m   1106\u001b[0m \u001b[1;33m\u001b[0m\u001b[0m\n\u001b[0;32m   1107\u001b[0m         \u001b[1;32mif\u001b[0m \u001b[0mcreated_buffer\u001b[0m\u001b[1;33m:\u001b[0m\u001b[1;33m\u001b[0m\u001b[1;33m\u001b[0m\u001b[0m\n",
      "\u001b[1;32m~\\anaconda3\\envs\\DL_env\\lib\\site-packages\\pandas\\io\\formats\\csvs.py\u001b[0m in \u001b[0;36msave\u001b[1;34m(self)\u001b[0m\n\u001b[0;32m    241\u001b[0m             \u001b[0merrors\u001b[0m\u001b[1;33m=\u001b[0m\u001b[0mself\u001b[0m\u001b[1;33m.\u001b[0m\u001b[0merrors\u001b[0m\u001b[1;33m,\u001b[0m\u001b[1;33m\u001b[0m\u001b[1;33m\u001b[0m\u001b[0m\n\u001b[0;32m    242\u001b[0m             \u001b[0mcompression\u001b[0m\u001b[1;33m=\u001b[0m\u001b[0mself\u001b[0m\u001b[1;33m.\u001b[0m\u001b[0mcompression\u001b[0m\u001b[1;33m,\u001b[0m\u001b[1;33m\u001b[0m\u001b[1;33m\u001b[0m\u001b[0m\n\u001b[1;32m--> 243\u001b[1;33m             \u001b[0mstorage_options\u001b[0m\u001b[1;33m=\u001b[0m\u001b[0mself\u001b[0m\u001b[1;33m.\u001b[0m\u001b[0mstorage_options\u001b[0m\u001b[1;33m,\u001b[0m\u001b[1;33m\u001b[0m\u001b[1;33m\u001b[0m\u001b[0m\n\u001b[0m\u001b[0;32m    244\u001b[0m         ) as handles:\n\u001b[0;32m    245\u001b[0m \u001b[1;33m\u001b[0m\u001b[0m\n",
      "\u001b[1;32m~\\anaconda3\\envs\\DL_env\\lib\\site-packages\\pandas\\io\\common.py\u001b[0m in \u001b[0;36mget_handle\u001b[1;34m(path_or_buf, mode, encoding, compression, memory_map, is_text, errors, storage_options)\u001b[0m\n\u001b[0;32m    583\u001b[0m \u001b[1;33m\u001b[0m\u001b[0m\n\u001b[0;32m    584\u001b[0m     \u001b[1;31m# read_csv does not know whether the buffer is opened in binary/text mode\u001b[0m\u001b[1;33m\u001b[0m\u001b[1;33m\u001b[0m\u001b[1;33m\u001b[0m\u001b[0m\n\u001b[1;32m--> 585\u001b[1;33m     \u001b[1;32mif\u001b[0m \u001b[0m_is_binary_mode\u001b[0m\u001b[1;33m(\u001b[0m\u001b[0mpath_or_buf\u001b[0m\u001b[1;33m,\u001b[0m \u001b[0mmode\u001b[0m\u001b[1;33m)\u001b[0m \u001b[1;32mand\u001b[0m \u001b[1;34m\"b\"\u001b[0m \u001b[1;32mnot\u001b[0m \u001b[1;32min\u001b[0m \u001b[0mmode\u001b[0m\u001b[1;33m:\u001b[0m\u001b[1;33m\u001b[0m\u001b[1;33m\u001b[0m\u001b[0m\n\u001b[0m\u001b[0;32m    586\u001b[0m         \u001b[0mmode\u001b[0m \u001b[1;33m+=\u001b[0m \u001b[1;34m\"b\"\u001b[0m\u001b[1;33m\u001b[0m\u001b[1;33m\u001b[0m\u001b[0m\n\u001b[0;32m    587\u001b[0m \u001b[1;33m\u001b[0m\u001b[0m\n",
      "\u001b[1;32m~\\anaconda3\\envs\\DL_env\\lib\\site-packages\\pandas\\io\\common.py\u001b[0m in \u001b[0;36m_is_binary_mode\u001b[1;34m(handle, mode)\u001b[0m\n\u001b[0;32m    960\u001b[0m     \u001b[1;31m# classes that expect bytes\u001b[0m\u001b[1;33m\u001b[0m\u001b[1;33m\u001b[0m\u001b[1;33m\u001b[0m\u001b[0m\n\u001b[0;32m    961\u001b[0m     \u001b[0mbinary_classes\u001b[0m \u001b[1;33m=\u001b[0m \u001b[1;33m(\u001b[0m\u001b[0mBufferedIOBase\u001b[0m\u001b[1;33m,\u001b[0m \u001b[0mRawIOBase\u001b[0m\u001b[1;33m)\u001b[0m\u001b[1;33m\u001b[0m\u001b[1;33m\u001b[0m\u001b[0m\n\u001b[1;32m--> 962\u001b[1;33m     \u001b[1;32mreturn\u001b[0m \u001b[0misinstance\u001b[0m\u001b[1;33m(\u001b[0m\u001b[0mhandle\u001b[0m\u001b[1;33m,\u001b[0m \u001b[0mbinary_classes\u001b[0m\u001b[1;33m)\u001b[0m \u001b[1;32mor\u001b[0m \u001b[1;34m\"b\"\u001b[0m \u001b[1;32min\u001b[0m \u001b[0mgetattr\u001b[0m\u001b[1;33m(\u001b[0m\u001b[0mhandle\u001b[0m\u001b[1;33m,\u001b[0m \u001b[1;34m\"mode\"\u001b[0m\u001b[1;33m,\u001b[0m \u001b[0mmode\u001b[0m\u001b[1;33m)\u001b[0m\u001b[1;33m\u001b[0m\u001b[1;33m\u001b[0m\u001b[0m\n\u001b[0m",
      "\u001b[1;31mTypeError\u001b[0m: argument of type 'method' is not iterable"
     ]
    }
   ],
   "source": [
    "df = create_balance_affect_Net_csv()"
   ]
  },
  {
   "cell_type": "code",
   "execution_count": null,
   "id": "780a65d1",
   "metadata": {},
   "outputs": [],
   "source": [
    "display(df)"
   ]
  },
  {
   "cell_type": "code",
   "execution_count": 47,
   "id": "d4006989",
   "metadata": {},
   "outputs": [
    {
     "ename": "NameError",
     "evalue": "name 'create_affectNet_csv' is not defined",
     "output_type": "error",
     "traceback": [
      "\u001b[1;31m---------------------------------------------------------------------------\u001b[0m",
      "\u001b[1;31mNameError\u001b[0m                                 Traceback (most recent call last)",
      "\u001b[1;32m~\\AppData\\Local\\Temp/ipykernel_42152/3306966849.py\u001b[0m in \u001b[0;36m<module>\u001b[1;34m\u001b[0m\n\u001b[1;32m----> 1\u001b[1;33m \u001b[0mcreate_affectNet_csv\u001b[0m\u001b[1;33m(\u001b[0m\u001b[1;33m)\u001b[0m\u001b[1;33m\u001b[0m\u001b[1;33m\u001b[0m\u001b[0m\n\u001b[0m",
      "\u001b[1;31mNameError\u001b[0m: name 'create_affectNet_csv' is not defined"
     ]
    }
   ],
   "source": [
    "create_affectNet_csv()"
   ]
  },
  {
   "cell_type": "code",
   "execution_count": null,
   "id": "224d109f",
   "metadata": {},
   "outputs": [],
   "source": []
  },
  {
   "cell_type": "code",
   "execution_count": null,
   "id": "d40bee2f",
   "metadata": {},
   "outputs": [],
   "source": []
  }
 ],
 "metadata": {
  "kernelspec": {
   "display_name": "Python 3 (ipykernel)",
   "language": "python",
   "name": "python3"
  },
  "language_info": {
   "codemirror_mode": {
    "name": "ipython",
    "version": 3
   },
   "file_extension": ".py",
   "mimetype": "text/x-python",
   "name": "python",
   "nbconvert_exporter": "python",
   "pygments_lexer": "ipython3",
   "version": "3.7.11"
  }
 },
 "nbformat": 4,
 "nbformat_minor": 5
}
