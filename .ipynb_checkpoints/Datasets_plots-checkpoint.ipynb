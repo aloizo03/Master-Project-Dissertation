{
 "cells": [
  {
   "cell_type": "code",
   "execution_count": 90,
   "id": "f4fdf9b2",
   "metadata": {},
   "outputs": [],
   "source": [
    "import os\n",
    "import pandas as pd\n",
    "import numpy as np\n",
    "import cv2"
   ]
  },
  {
   "cell_type": "code",
   "execution_count": 91,
   "id": "a8b5a137",
   "metadata": {},
   "outputs": [],
   "source": [
    "def read_FER13_and_create_images(dataset_dir='Dataset\\input\\FER13'):\n",
    "    dir_path = os.getcwd()\n",
    "    path_dataset_dir = os.path.join(dir_path, dataset_dir)\n",
    "    csv_dir =  os.path.join(path_dataset_dir, 'fer2013.csv')\n",
    "    \n",
    "    csv_fer = pd.read_csv(csv_dir)\n",
    "    pixels_lst = csv_fer['pixels'].values.tolist()\n",
    "    emotions_lst = csv_fer['emotion'].values.tolist()\n",
    "    \n",
    "    from_id_to_emotion = {0:'angry', 1:'disgust', 2:'fear', 3:'happy', 4:'sad', 5:'surprise', 6:'neutral'}\n",
    "    filename_lst = []\n",
    "    for i, pixels in enumerate(pixels_lst):\n",
    "        pixels = list(pixels.split(\" \"))\n",
    "        pixels_np = np.array(pixels, dtype=np.float64).reshape((48, 48))\n",
    "        filename = f'emotion_fer13_{i}.jpg'\n",
    "        filename_dir = os.path.join(path_dataset_dir, filename)\n",
    "        cv2.imwrite(filename_dir, pixels_np)\n",
    "         \n",
    "        filename_lst.append(filename)\n",
    "    \n",
    "    emotions = []\n",
    "    for emotion in emotions_lst:\n",
    "        emotions.append(from_id_to_emotion[emotion])\n",
    "    csv_fer['pth'] = filename_lst\n",
    "    csv_fer['label'] = emotions\n",
    "    csv_dir =  os.path.join(path_dataset_dir, 'fer_13.csv')\n",
    "    csv_fer.to_csv(csv_dir)"
   ]
  },
  {
   "cell_type": "code",
   "execution_count": 50,
   "id": "5bd2a40b",
   "metadata": {},
   "outputs": [],
   "source": [
    "read_FER13_and_create_images()"
   ]
  },
  {
   "cell_type": "code",
   "execution_count": 51,
   "id": "5e328870",
   "metadata": {},
   "outputs": [],
   "source": [
    "def create_CK_csv(dataset_dir='Dataset\\input\\KC_extend', folders=['anger', 'contempt', 'disgust', 'fear', 'happiness', 'neutral', 'sadness', 'surprise']):\n",
    "    lst_img_pth = []\n",
    "    lst_label = []\n",
    "    dir_path = os.getcwd()\n",
    "    path_dataset_dir = os.path.join(dir_path, dataset_dir)\n",
    "    \n",
    "    for folder in folders:\n",
    "        images_folder_dir = os.path.join(path_dataset_dir, folder)\n",
    "        arr = os.listdir(images_folder_dir)\n",
    "        imgs_path = [os.path.join(folder, pth) for pth in arr]\n",
    "        lst_img_pth.extend(imgs_path)\n",
    "        labels = [folder for i in range(len(arr))]\n",
    "        lst_label.extend(labels)\n",
    "        \n",
    "    data = {'pth': lst_img_pth,\n",
    "            'label': lst_label}\n",
    "    \n",
    "    df = pd.DataFrame(data)\n",
    "    csv_dir = os.path.join(path_dataset_dir, 'KC_extend.csv')\n",
    "    df.to_csv(csv_dir)"
   ]
  },
  {
   "cell_type": "code",
   "execution_count": null,
   "id": "99842cab",
   "metadata": {},
   "outputs": [],
   "source": []
  },
  {
   "cell_type": "code",
   "execution_count": 52,
   "id": "2214428c",
   "metadata": {},
   "outputs": [],
   "source": [
    "def concat_all_emotic_files(dataset_dir='Dataset\\input\\emotic', files=['annot_arrs_extra_train.csv', 'annot_arrs_test.csv', 'annot_arrs_train.csv', 'annot_arrs_val.csv']):\n",
    "    dir_path = os.getcwd()\n",
    "    path_dataset_dir = os.path.join(dir_path, dataset_dir)\n",
    "    df = pd.DataFrame()\n",
    "    for file in files:\n",
    "        csv_path = os.path.join(path_dataset_dir, file)\n",
    "        csv_fer = pd.read_csv(csv_path)\n",
    "        df = pd.concat([df, csv_fer])\n",
    "    df.columns = df.columns.str.replace('Crop_name', 'pth')\n",
    "    csv_dir = os.path.join(path_dataset_dir, 'emotic.csv')\n",
    "    df.to_csv(csv_dir, index=False)"
   ]
  },
  {
   "cell_type": "code",
   "execution_count": 53,
   "id": "013cb105",
   "metadata": {},
   "outputs": [],
   "source": [
    "concat_all_emotic_files()"
   ]
  },
  {
   "cell_type": "code",
   "execution_count": 54,
   "id": "42272100",
   "metadata": {},
   "outputs": [],
   "source": [
    "# create_CK_csv()"
   ]
  },
  {
   "cell_type": "code",
   "execution_count": 55,
   "id": "24fba11b",
   "metadata": {},
   "outputs": [],
   "source": [
    "def read_dataset_and_create_df(dataset_dir='Dataset/input/affectnetsample', labels_csv='labels.csv', annotations_csv='test_outputs.csv'):\n",
    "    dir_path = os.getcwd()\n",
    "    path_dataset_dir = os.path.join(dir_path, dataset_dir)\n",
    "    path_sens_features = os.path.join(path_dataset_dir, annotations_csv)\n",
    "    path_csv_labels = os.path.join(path_dataset_dir, labels_csv)\n",
    "\n",
    "    csv_sf = pd.read_csv(path_sens_features)\n",
    "    csv_labels = pd.read_csv(path_csv_labels)\n",
    "    df = pd.merge(csv_sf, csv_labels, on=\"pth\")\n",
    "    return df"
   ]
  },
  {
   "cell_type": "code",
   "execution_count": 56,
   "id": "8b8ca5ce",
   "metadata": {},
   "outputs": [],
   "source": [
    "affect_net_df = read_dataset_and_create_df()"
   ]
  },
  {
   "cell_type": "code",
   "execution_count": 57,
   "id": "2620b5c7",
   "metadata": {},
   "outputs": [],
   "source": [
    "FER_2013_df = read_dataset_and_create_df(dataset_dir='Dataset\\input\\FER13', labels_csv='fer_13.csv')"
   ]
  },
  {
   "cell_type": "code",
   "execution_count": 58,
   "id": "9b4e8f9e",
   "metadata": {},
   "outputs": [],
   "source": [
    "ck_df = read_dataset_and_create_df(dataset_dir='Dataset\\input\\KC_extend', labels_csv='KC_extend.csv')"
   ]
  },
  {
   "cell_type": "code",
   "execution_count": 59,
   "id": "fbb79545",
   "metadata": {},
   "outputs": [
    {
     "ename": "KeyError",
     "evalue": "'pth'",
     "output_type": "error",
     "traceback": [
      "\u001b[1;31m---------------------------------------------------------------------------\u001b[0m",
      "\u001b[1;31mKeyError\u001b[0m                                  Traceback (most recent call last)",
      "\u001b[1;32m~\\AppData\\Local\\Temp/ipykernel_40820/3182858293.py\u001b[0m in \u001b[0;36m<module>\u001b[1;34m\u001b[0m\n\u001b[1;32m----> 1\u001b[1;33m \u001b[0memotic_df\u001b[0m \u001b[1;33m=\u001b[0m \u001b[0mread_dataset_and_create_df\u001b[0m\u001b[1;33m(\u001b[0m\u001b[0mdataset_dir\u001b[0m\u001b[1;33m=\u001b[0m\u001b[1;34m'Dataset\\input\\emotic'\u001b[0m\u001b[1;33m,\u001b[0m \u001b[0mlabels_csv\u001b[0m\u001b[1;33m=\u001b[0m\u001b[1;34m'emotic.csv'\u001b[0m\u001b[1;33m)\u001b[0m\u001b[1;33m\u001b[0m\u001b[1;33m\u001b[0m\u001b[0m\n\u001b[0m",
      "\u001b[1;32m~\\AppData\\Local\\Temp/ipykernel_40820/723854519.py\u001b[0m in \u001b[0;36mread_dataset_and_create_df\u001b[1;34m(dataset_dir, labels_csv, annotations_csv)\u001b[0m\n\u001b[0;32m      7\u001b[0m     \u001b[0mcsv_sf\u001b[0m \u001b[1;33m=\u001b[0m \u001b[0mpd\u001b[0m\u001b[1;33m.\u001b[0m\u001b[0mread_csv\u001b[0m\u001b[1;33m(\u001b[0m\u001b[0mpath_sens_features\u001b[0m\u001b[1;33m)\u001b[0m\u001b[1;33m\u001b[0m\u001b[1;33m\u001b[0m\u001b[0m\n\u001b[0;32m      8\u001b[0m     \u001b[0mcsv_labels\u001b[0m \u001b[1;33m=\u001b[0m \u001b[0mpd\u001b[0m\u001b[1;33m.\u001b[0m\u001b[0mread_csv\u001b[0m\u001b[1;33m(\u001b[0m\u001b[0mpath_csv_labels\u001b[0m\u001b[1;33m)\u001b[0m\u001b[1;33m\u001b[0m\u001b[1;33m\u001b[0m\u001b[0m\n\u001b[1;32m----> 9\u001b[1;33m     \u001b[0mdf\u001b[0m \u001b[1;33m=\u001b[0m \u001b[0mpd\u001b[0m\u001b[1;33m.\u001b[0m\u001b[0mmerge\u001b[0m\u001b[1;33m(\u001b[0m\u001b[0mcsv_sf\u001b[0m\u001b[1;33m,\u001b[0m \u001b[0mcsv_labels\u001b[0m\u001b[1;33m,\u001b[0m \u001b[0mon\u001b[0m\u001b[1;33m=\u001b[0m\u001b[1;34m\"pth\"\u001b[0m\u001b[1;33m)\u001b[0m\u001b[1;33m\u001b[0m\u001b[1;33m\u001b[0m\u001b[0m\n\u001b[0m\u001b[0;32m     10\u001b[0m     \u001b[1;32mreturn\u001b[0m \u001b[0mdf\u001b[0m\u001b[1;33m\u001b[0m\u001b[1;33m\u001b[0m\u001b[0m\n",
      "\u001b[1;32m~\\anaconda3\\envs\\DL_env\\lib\\site-packages\\pandas\\core\\reshape\\merge.py\u001b[0m in \u001b[0;36mmerge\u001b[1;34m(left, right, how, on, left_on, right_on, left_index, right_index, sort, suffixes, copy, indicator, validate)\u001b[0m\n\u001b[0;32m    117\u001b[0m         \u001b[0mcopy\u001b[0m\u001b[1;33m=\u001b[0m\u001b[0mcopy\u001b[0m\u001b[1;33m,\u001b[0m\u001b[1;33m\u001b[0m\u001b[1;33m\u001b[0m\u001b[0m\n\u001b[0;32m    118\u001b[0m         \u001b[0mindicator\u001b[0m\u001b[1;33m=\u001b[0m\u001b[0mindicator\u001b[0m\u001b[1;33m,\u001b[0m\u001b[1;33m\u001b[0m\u001b[1;33m\u001b[0m\u001b[0m\n\u001b[1;32m--> 119\u001b[1;33m         \u001b[0mvalidate\u001b[0m\u001b[1;33m=\u001b[0m\u001b[0mvalidate\u001b[0m\u001b[1;33m,\u001b[0m\u001b[1;33m\u001b[0m\u001b[1;33m\u001b[0m\u001b[0m\n\u001b[0m\u001b[0;32m    120\u001b[0m     )\n\u001b[0;32m    121\u001b[0m     \u001b[1;32mreturn\u001b[0m \u001b[0mop\u001b[0m\u001b[1;33m.\u001b[0m\u001b[0mget_result\u001b[0m\u001b[1;33m(\u001b[0m\u001b[1;33m)\u001b[0m\u001b[1;33m\u001b[0m\u001b[1;33m\u001b[0m\u001b[0m\n",
      "\u001b[1;32m~\\anaconda3\\envs\\DL_env\\lib\\site-packages\\pandas\\core\\reshape\\merge.py\u001b[0m in \u001b[0;36m__init__\u001b[1;34m(self, left, right, how, on, left_on, right_on, axis, left_index, right_index, sort, suffixes, copy, indicator, validate)\u001b[0m\n\u001b[0;32m    697\u001b[0m             \u001b[0mself\u001b[0m\u001b[1;33m.\u001b[0m\u001b[0mright_join_keys\u001b[0m\u001b[1;33m,\u001b[0m\u001b[1;33m\u001b[0m\u001b[1;33m\u001b[0m\u001b[0m\n\u001b[0;32m    698\u001b[0m             \u001b[0mself\u001b[0m\u001b[1;33m.\u001b[0m\u001b[0mjoin_names\u001b[0m\u001b[1;33m,\u001b[0m\u001b[1;33m\u001b[0m\u001b[1;33m\u001b[0m\u001b[0m\n\u001b[1;32m--> 699\u001b[1;33m         ) = self._get_merge_keys()\n\u001b[0m\u001b[0;32m    700\u001b[0m \u001b[1;33m\u001b[0m\u001b[0m\n\u001b[0;32m    701\u001b[0m         \u001b[1;31m# validate the merge keys dtypes. We may need to coerce\u001b[0m\u001b[1;33m\u001b[0m\u001b[1;33m\u001b[0m\u001b[1;33m\u001b[0m\u001b[0m\n",
      "\u001b[1;32m~\\anaconda3\\envs\\DL_env\\lib\\site-packages\\pandas\\core\\reshape\\merge.py\u001b[0m in \u001b[0;36m_get_merge_keys\u001b[1;34m(self)\u001b[0m\n\u001b[0;32m   1094\u001b[0m                     \u001b[1;32mif\u001b[0m \u001b[1;32mnot\u001b[0m \u001b[0mis_rkey\u001b[0m\u001b[1;33m(\u001b[0m\u001b[0mrk\u001b[0m\u001b[1;33m)\u001b[0m\u001b[1;33m:\u001b[0m\u001b[1;33m\u001b[0m\u001b[1;33m\u001b[0m\u001b[0m\n\u001b[0;32m   1095\u001b[0m                         \u001b[1;32mif\u001b[0m \u001b[0mrk\u001b[0m \u001b[1;32mis\u001b[0m \u001b[1;32mnot\u001b[0m \u001b[1;32mNone\u001b[0m\u001b[1;33m:\u001b[0m\u001b[1;33m\u001b[0m\u001b[1;33m\u001b[0m\u001b[0m\n\u001b[1;32m-> 1096\u001b[1;33m                             \u001b[0mright_keys\u001b[0m\u001b[1;33m.\u001b[0m\u001b[0mappend\u001b[0m\u001b[1;33m(\u001b[0m\u001b[0mright\u001b[0m\u001b[1;33m.\u001b[0m\u001b[0m_get_label_or_level_values\u001b[0m\u001b[1;33m(\u001b[0m\u001b[0mrk\u001b[0m\u001b[1;33m)\u001b[0m\u001b[1;33m)\u001b[0m\u001b[1;33m\u001b[0m\u001b[1;33m\u001b[0m\u001b[0m\n\u001b[0m\u001b[0;32m   1097\u001b[0m                         \u001b[1;32melse\u001b[0m\u001b[1;33m:\u001b[0m\u001b[1;33m\u001b[0m\u001b[1;33m\u001b[0m\u001b[0m\n\u001b[0;32m   1098\u001b[0m                             \u001b[1;31m# work-around for merge_asof(right_index=True)\u001b[0m\u001b[1;33m\u001b[0m\u001b[1;33m\u001b[0m\u001b[1;33m\u001b[0m\u001b[0m\n",
      "\u001b[1;32m~\\anaconda3\\envs\\DL_env\\lib\\site-packages\\pandas\\core\\generic.py\u001b[0m in \u001b[0;36m_get_label_or_level_values\u001b[1;34m(self, key, axis)\u001b[0m\n\u001b[0;32m   1777\u001b[0m             \u001b[0mvalues\u001b[0m \u001b[1;33m=\u001b[0m \u001b[0mself\u001b[0m\u001b[1;33m.\u001b[0m\u001b[0maxes\u001b[0m\u001b[1;33m[\u001b[0m\u001b[0maxis\u001b[0m\u001b[1;33m]\u001b[0m\u001b[1;33m.\u001b[0m\u001b[0mget_level_values\u001b[0m\u001b[1;33m(\u001b[0m\u001b[0mkey\u001b[0m\u001b[1;33m)\u001b[0m\u001b[1;33m.\u001b[0m\u001b[0m_values\u001b[0m\u001b[1;33m\u001b[0m\u001b[1;33m\u001b[0m\u001b[0m\n\u001b[0;32m   1778\u001b[0m         \u001b[1;32melse\u001b[0m\u001b[1;33m:\u001b[0m\u001b[1;33m\u001b[0m\u001b[1;33m\u001b[0m\u001b[0m\n\u001b[1;32m-> 1779\u001b[1;33m             \u001b[1;32mraise\u001b[0m \u001b[0mKeyError\u001b[0m\u001b[1;33m(\u001b[0m\u001b[0mkey\u001b[0m\u001b[1;33m)\u001b[0m\u001b[1;33m\u001b[0m\u001b[1;33m\u001b[0m\u001b[0m\n\u001b[0m\u001b[0;32m   1780\u001b[0m \u001b[1;33m\u001b[0m\u001b[0m\n\u001b[0;32m   1781\u001b[0m         \u001b[1;31m# Check for duplicates\u001b[0m\u001b[1;33m\u001b[0m\u001b[1;33m\u001b[0m\u001b[1;33m\u001b[0m\u001b[0m\n",
      "\u001b[1;31mKeyError\u001b[0m: 'pth'"
     ]
    }
   ],
   "source": [
    "emotic_df = read_dataset_and_create_df(dataset_dir='Dataset\\input\\emotic', labels_csv='emotic.csv')"
   ]
  },
  {
   "cell_type": "code",
   "execution_count": 92,
   "id": "a16b71a2",
   "metadata": {},
   "outputs": [],
   "source": [
    "from matplotlib import pyplot as plt\n",
    "\n",
    "def create_race4_annotation_plot(datasets_dict):\n",
    "    races4 = ['Asian', 'Black', 'Indian', 'White']\n",
    "    plot_dict = {}\n",
    "    datasets = datasets_dict.keys()\n",
    "#     for key, value in datasets_dict.items():\n",
    "#         percentage = []\n",
    "#         race4_lst = value['race4'].values.tolist()\n",
    "#         for race in races4:\n",
    "#             count = race4_lst.count(race)\n",
    "#             percentage.append(count/len(race4_lst))\n",
    "#         plot_dict[key] = percentage\n",
    "#         datasets.append(key)\n",
    "    for race in races4:\n",
    "        percentage = []\n",
    "        for key, value in datasets_dict.items():\n",
    "            race4_lst = value['race4'].values.tolist()   \n",
    "            count = race4_lst.count(race)\n",
    "            percentage.append(count/len(race4_lst))\n",
    "        plot_dict[race] = percentage\n",
    "    \n",
    "    plotdata = pd.DataFrame(plot_dict, index=datasets)\n",
    "    display(plotdata)\n",
    "    plotdata.plot(kind=\"bar\", stacked=True).legend(loc='upper center', ncol=4, title=\"RACES\")\n",
    "    plt.title(\"Dataset race annotation percentage\")\n",
    "    plt.xlabel(\"Dataset\")\n",
    "    plt.ylabel(\"Percentage\")\n",
    "    plt.ylim([0, 1.5])"
   ]
  },
  {
   "cell_type": "code",
   "execution_count": 93,
   "id": "db2256ef",
   "metadata": {},
   "outputs": [],
   "source": [
    "from matplotlib import pyplot as plt\n",
    "\n",
    "def create_race_annotation_plot(datasets_dict):\n",
    "    races = ['East Asian', 'Latino_Hispanic', 'Indian', 'Southeast Asian', 'Middle Eastern', 'Black', 'White']\n",
    "    plot_dict = {}\n",
    "    datasets = datasets_dict.keys()\n",
    "#     for key, value in datasets_dict.items():\n",
    "#         percentage = []\n",
    "#         race4_lst = value['race4'].values.tolist()\n",
    "#         for race in races4:\n",
    "#             count = race4_lst.count(race)\n",
    "#             percentage.append(count/len(race4_lst))\n",
    "#         plot_dict[key] = percentage\n",
    "#         datasets.append(key)\n",
    "    for race in races:\n",
    "        percentage = []\n",
    "        for key, value in datasets_dict.items():\n",
    "            race4_lst = value['race'].values.tolist()   \n",
    "            count = race4_lst.count(race)\n",
    "            percentage.append(count/len(race4_lst))\n",
    "        plot_dict[race] = percentage\n",
    "    \n",
    "    plotdata = pd.DataFrame(plot_dict, index=datasets)\n",
    "    display(plotdata)\n",
    "    plotdata.plot(kind=\"bar\", stacked=True).legend(loc='upper center', ncol=3, title=\"RACES\")\n",
    "    plt.title(\"Dataset race annotation percentage\")\n",
    "    plt.xlabel(\"Dataset\")\n",
    "    plt.ylabel(\"Percentage\")\n",
    "    plt.ylim([0, 1.5])"
   ]
  },
  {
   "cell_type": "code",
   "execution_count": 103,
   "id": "eacd3f2a",
   "metadata": {},
   "outputs": [],
   "source": [
    "datasets_dict = {'AffectNet': affect_net_df, 'FER13': FER_2013_df, 'CK+':ck_df, 'EMOTIC':emotic_df}"
   ]
  },
  {
   "cell_type": "code",
   "execution_count": 104,
   "id": "b26cd588",
   "metadata": {},
   "outputs": [
    {
     "data": {
      "text/html": [
       "<div>\n",
       "<style scoped>\n",
       "    .dataframe tbody tr th:only-of-type {\n",
       "        vertical-align: middle;\n",
       "    }\n",
       "\n",
       "    .dataframe tbody tr th {\n",
       "        vertical-align: top;\n",
       "    }\n",
       "\n",
       "    .dataframe thead th {\n",
       "        text-align: right;\n",
       "    }\n",
       "</style>\n",
       "<table border=\"1\" class=\"dataframe\">\n",
       "  <thead>\n",
       "    <tr style=\"text-align: right;\">\n",
       "      <th></th>\n",
       "      <th>Asian</th>\n",
       "      <th>Black</th>\n",
       "      <th>Indian</th>\n",
       "      <th>White</th>\n",
       "    </tr>\n",
       "  </thead>\n",
       "  <tbody>\n",
       "    <tr>\n",
       "      <th>AffectNet</th>\n",
       "      <td>0.153764</td>\n",
       "      <td>0.078382</td>\n",
       "      <td>0.062222</td>\n",
       "      <td>0.705632</td>\n",
       "    </tr>\n",
       "    <tr>\n",
       "      <th>FER13</th>\n",
       "      <td>0.137682</td>\n",
       "      <td>0.105999</td>\n",
       "      <td>0.043247</td>\n",
       "      <td>0.713072</td>\n",
       "    </tr>\n",
       "    <tr>\n",
       "      <th>CK+</th>\n",
       "      <td>0.620652</td>\n",
       "      <td>0.218478</td>\n",
       "      <td>0.094565</td>\n",
       "      <td>0.066304</td>\n",
       "    </tr>\n",
       "    <tr>\n",
       "      <th>EMOTIC</th>\n",
       "      <td>0.137303</td>\n",
       "      <td>0.188982</td>\n",
       "      <td>0.066660</td>\n",
       "      <td>0.607056</td>\n",
       "    </tr>\n",
       "  </tbody>\n",
       "</table>\n",
       "</div>"
      ],
      "text/plain": [
       "              Asian     Black    Indian     White\n",
       "AffectNet  0.153764  0.078382  0.062222  0.705632\n",
       "FER13      0.137682  0.105999  0.043247  0.713072\n",
       "CK+        0.620652  0.218478  0.094565  0.066304\n",
       "EMOTIC     0.137303  0.188982  0.066660  0.607056"
      ]
     },
     "metadata": {},
     "output_type": "display_data"
    },
    {
     "data": {
      "image/png": "[encoded data removed]",
      "text/plain": [
       "<Figure size 432x288 with 1 Axes>"
      ]
     },
     "metadata": {
      "needs_background": "light"
     },
     "output_type": "display_data"
    }
   ],
   "source": [
    "create_race4_annotation_plot(datasets_dict)"
   ]
  },
  {
   "cell_type": "code",
   "execution_count": 105,
   "id": "219ac6a2",
   "metadata": {},
   "outputs": [
    {
     "data": {
      "text/html": [
       "<div>\n",
       "<style scoped>\n",
       "    .dataframe tbody tr th:only-of-type {\n",
       "        vertical-align: middle;\n",
       "    }\n",
       "\n",
       "    .dataframe tbody tr th {\n",
       "        vertical-align: top;\n",
       "    }\n",
       "\n",
       "    .dataframe thead th {\n",
       "        text-align: right;\n",
       "    }\n",
       "</style>\n",
       "<table border=\"1\" class=\"dataframe\">\n",
       "  <thead>\n",
       "    <tr style=\"text-align: right;\">\n",
       "      <th></th>\n",
       "      <th>East Asian</th>\n",
       "      <th>Latino_Hispanic</th>\n",
       "      <th>Indian</th>\n",
       "      <th>Southeast Asian</th>\n",
       "      <th>Middle Eastern</th>\n",
       "      <th>Black</th>\n",
       "      <th>White</th>\n",
       "    </tr>\n",
       "  </thead>\n",
       "  <tbody>\n",
       "    <tr>\n",
       "      <th>AffectNet</th>\n",
       "      <td>0.089285</td>\n",
       "      <td>0.078447</td>\n",
       "      <td>0.034417</td>\n",
       "      <td>0.037675</td>\n",
       "      <td>0.046126</td>\n",
       "      <td>0.068802</td>\n",
       "      <td>0.645249</td>\n",
       "    </tr>\n",
       "    <tr>\n",
       "      <th>FER13</th>\n",
       "      <td>0.083261</td>\n",
       "      <td>0.043163</td>\n",
       "      <td>0.018642</td>\n",
       "      <td>0.024577</td>\n",
       "      <td>0.052888</td>\n",
       "      <td>0.099395</td>\n",
       "      <td>0.678073</td>\n",
       "    </tr>\n",
       "    <tr>\n",
       "      <th>CK+</th>\n",
       "      <td>0.359783</td>\n",
       "      <td>0.033696</td>\n",
       "      <td>0.056522</td>\n",
       "      <td>0.058696</td>\n",
       "      <td>0.088043</td>\n",
       "      <td>0.277174</td>\n",
       "      <td>0.126087</td>\n",
       "    </tr>\n",
       "    <tr>\n",
       "      <th>EMOTIC</th>\n",
       "      <td>0.243006</td>\n",
       "      <td>0.047297</td>\n",
       "      <td>0.019348</td>\n",
       "      <td>0.018834</td>\n",
       "      <td>0.067751</td>\n",
       "      <td>0.060185</td>\n",
       "      <td>0.543578</td>\n",
       "    </tr>\n",
       "  </tbody>\n",
       "</table>\n",
       "</div>"
      ],
      "text/plain": [
       "           East Asian  Latino_Hispanic    Indian  Southeast Asian  \\\n",
       "AffectNet    0.089285         0.078447  0.034417         0.037675   \n",
       "FER13        0.083261         0.043163  0.018642         0.024577   \n",
       "CK+          0.359783         0.033696  0.056522         0.058696   \n",
       "EMOTIC       0.243006         0.047297  0.019348         0.018834   \n",
       "\n",
       "           Middle Eastern     Black     White  \n",
       "AffectNet        0.046126  0.068802  0.645249  \n",
       "FER13            0.052888  0.099395  0.678073  \n",
       "CK+              0.088043  0.277174  0.126087  \n",
       "EMOTIC           0.067751  0.060185  0.543578  "
      ]
     },
     "metadata": {},
     "output_type": "display_data"
    },
    {
     "data": {
      "image/png": "[encoded data removed]",
      "text/plain": [
       "<Figure size 432x288 with 1 Axes>"
      ]
     },
     "metadata": {
      "needs_background": "light"
     },
     "output_type": "display_data"
    }
   ],
   "source": [
    "create_race_annotation_plot(datasets_dict)"
   ]
  },
  {
   "cell_type": "code",
   "execution_count": 106,
   "id": "5cc00f19",
   "metadata": {},
   "outputs": [],
   "source": [
    "def create_datasets_df_per_emotion_class(datasets_dict):\n",
    "    datasets = datasets_dict.keys()\n",
    "    emotions_classes = ['anger', 'contempt', 'disgust', 'fear', 'sad', 'surprise', 'happy', 'neutral']\n",
    "    emotion_dict = {}\n",
    "    emotion_dict_2 = {}\n",
    "    for emotion in emotions_classes:\n",
    "        emotion_lst = []\n",
    "        emotion_percentage_list = []\n",
    "        for key, value in datasets_dict.items():\n",
    "            emotions = value['label'].values.tolist()\n",
    "            count = emotions.count(emotion)\n",
    "            emotion_lst.append(count)\n",
    "            emotion_percentage_list.append(count/len(emotions))\n",
    "        emotion_dict[emotion] = emotion_percentage_list\n",
    "        emotion_dict_2[emotion] = emotion_lst\n",
    "    \n",
    "    df = pd.DataFrame(emotion_dict, index=datasets)\n",
    "    df2 = pd.DataFrame(emotion_dict_2, index=datasets)\n",
    "    display(df)\n",
    "    display(df2)"
   ]
  },
  {
   "cell_type": "code",
   "execution_count": 98,
   "id": "1c1680e3",
   "metadata": {},
   "outputs": [],
   "source": [
    "datasets_dict = {'affectNet': affect_net_df, 'FER13': FER_2013_df, 'CK+':ck_df}"
   ]
  },
  {
   "cell_type": "code",
   "execution_count": 99,
   "id": "ba873bc3",
   "metadata": {},
   "outputs": [
    {
     "data": {
      "text/html": [
       "<div>\n",
       "<style scoped>\n",
       "    .dataframe tbody tr th:only-of-type {\n",
       "        vertical-align: middle;\n",
       "    }\n",
       "\n",
       "    .dataframe tbody tr th {\n",
       "        vertical-align: top;\n",
       "    }\n",
       "\n",
       "    .dataframe thead th {\n",
       "        text-align: right;\n",
       "    }\n",
       "</style>\n",
       "<table border=\"1\" class=\"dataframe\">\n",
       "  <thead>\n",
       "    <tr style=\"text-align: right;\">\n",
       "      <th></th>\n",
       "      <th>anger</th>\n",
       "      <th>contempt</th>\n",
       "      <th>disgust</th>\n",
       "      <th>fear</th>\n",
       "      <th>sad</th>\n",
       "      <th>surprise</th>\n",
       "      <th>happy</th>\n",
       "      <th>neutral</th>\n",
       "    </tr>\n",
       "  </thead>\n",
       "  <tbody>\n",
       "    <tr>\n",
       "      <th>affectNet</th>\n",
       "      <td>0.134185</td>\n",
       "      <td>0.115734</td>\n",
       "      <td>0.121799</td>\n",
       "      <td>0.121057</td>\n",
       "      <td>0.108122</td>\n",
       "      <td>0.157700</td>\n",
       "      <td>0.141346</td>\n",
       "      <td>0.100058</td>\n",
       "    </tr>\n",
       "    <tr>\n",
       "      <th>FER13</th>\n",
       "      <td>0.000000</td>\n",
       "      <td>0.000000</td>\n",
       "      <td>0.015242</td>\n",
       "      <td>0.142698</td>\n",
       "      <td>0.169337</td>\n",
       "      <td>0.111517</td>\n",
       "      <td>0.250481</td>\n",
       "      <td>0.172709</td>\n",
       "    </tr>\n",
       "    <tr>\n",
       "      <th>CK+</th>\n",
       "      <td>0.048913</td>\n",
       "      <td>0.019565</td>\n",
       "      <td>0.064130</td>\n",
       "      <td>0.027174</td>\n",
       "      <td>0.000000</td>\n",
       "      <td>0.090217</td>\n",
       "      <td>0.000000</td>\n",
       "      <td>0.644565</td>\n",
       "    </tr>\n",
       "  </tbody>\n",
       "</table>\n",
       "</div>"
      ],
      "text/plain": [
       "              anger  contempt   disgust      fear       sad  surprise  \\\n",
       "affectNet  0.134185  0.115734  0.121799  0.121057  0.108122  0.157700   \n",
       "FER13      0.000000  0.000000  0.015242  0.142698  0.169337  0.111517   \n",
       "CK+        0.048913  0.019565  0.064130  0.027174  0.000000  0.090217   \n",
       "\n",
       "              happy   neutral  \n",
       "affectNet  0.141346  0.100058  \n",
       "FER13      0.250481  0.172709  \n",
       "CK+        0.000000  0.644565  "
      ]
     },
     "metadata": {},
     "output_type": "display_data"
    },
    {
     "data": {
      "text/html": [
       "<div>\n",
       "<style scoped>\n",
       "    .dataframe tbody tr th:only-of-type {\n",
       "        vertical-align: middle;\n",
       "    }\n",
       "\n",
       "    .dataframe tbody tr th {\n",
       "        vertical-align: top;\n",
       "    }\n",
       "\n",
       "    .dataframe thead th {\n",
       "        text-align: right;\n",
       "    }\n",
       "</style>\n",
       "<table border=\"1\" class=\"dataframe\">\n",
       "  <thead>\n",
       "    <tr style=\"text-align: right;\">\n",
       "      <th></th>\n",
       "      <th>anger</th>\n",
       "      <th>contempt</th>\n",
       "      <th>disgust</th>\n",
       "      <th>fear</th>\n",
       "      <th>sad</th>\n",
       "      <th>surprise</th>\n",
       "      <th>happy</th>\n",
       "      <th>neutral</th>\n",
       "    </tr>\n",
       "  </thead>\n",
       "  <tbody>\n",
       "    <tr>\n",
       "      <th>affectNet</th>\n",
       "      <td>4160</td>\n",
       "      <td>3588</td>\n",
       "      <td>3776</td>\n",
       "      <td>3753</td>\n",
       "      <td>3352</td>\n",
       "      <td>4889</td>\n",
       "      <td>4382</td>\n",
       "      <td>3102</td>\n",
       "    </tr>\n",
       "    <tr>\n",
       "      <th>FER13</th>\n",
       "      <td>0</td>\n",
       "      <td>0</td>\n",
       "      <td>547</td>\n",
       "      <td>5121</td>\n",
       "      <td>6077</td>\n",
       "      <td>4002</td>\n",
       "      <td>8989</td>\n",
       "      <td>6198</td>\n",
       "    </tr>\n",
       "    <tr>\n",
       "      <th>CK+</th>\n",
       "      <td>45</td>\n",
       "      <td>18</td>\n",
       "      <td>59</td>\n",
       "      <td>25</td>\n",
       "      <td>0</td>\n",
       "      <td>83</td>\n",
       "      <td>0</td>\n",
       "      <td>593</td>\n",
       "    </tr>\n",
       "  </tbody>\n",
       "</table>\n",
       "</div>"
      ],
      "text/plain": [
       "           anger  contempt  disgust  fear   sad  surprise  happy  neutral\n",
       "affectNet   4160      3588     3776  3753  3352      4889   4382     3102\n",
       "FER13          0         0      547  5121  6077      4002   8989     6198\n",
       "CK+           45        18       59    25     0        83      0      593"
      ]
     },
     "metadata": {},
     "output_type": "display_data"
    }
   ],
   "source": [
    "create_datasets_df_per_emotion_class(datasets_dict)"
   ]
  },
  {
   "cell_type": "code",
   "execution_count": null,
   "id": "8fe06e78",
   "metadata": {},
   "outputs": [],
   "source": []
  }
 ],
 "metadata": {
  "kernelspec": {
   "display_name": "Python 3 (ipykernel)",
   "language": "python",
   "name": "python3"
  },
  "language_info": {
   "codemirror_mode": {
    "name": "ipython",
    "version": 3
   },
   "file_extension": ".py",
   "mimetype": "text/x-python",
   "name": "python",
   "nbconvert_exporter": "python",
   "pygments_lexer": "ipython3",
   "version": "3.7.11"
  }
 },
 "nbformat": 4,
 "nbformat_minor": 5
}
