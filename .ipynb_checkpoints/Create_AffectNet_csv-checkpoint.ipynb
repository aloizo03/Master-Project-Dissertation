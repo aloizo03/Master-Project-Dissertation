{
 "cells": [
  {
   "cell_type": "code",
   "execution_count": 4,
   "id": "76745f1a",
   "metadata": {},
   "outputs": [],
   "source": [
    "import os\n",
    "import pandas as pd\n",
    "import numpy as np\n",
    "import cv2"
   ]
  },
  {
   "cell_type": "code",
   "execution_count": 13,
   "id": "0513917a",
   "metadata": {},
   "outputs": [],
   "source": [
    "def create_affectNet_csv(dataset_path='Dataset\\input\\affectnet', sub_paths=['train_set', 'val_set']):\n",
    "    dir_path = os.getcwd()\n",
    "    path_dataset_dir = os.path.join(dir_path, dataset_path)\n",
    "    image_filename_lst = []\n",
    "    label_lst = []\n",
    "    for path in sub_paths:\n",
    "        path_dataset = os.path.join(path_dataset_dir, path)\n",
    "        path_dataset_images = os.path.join(path_dataset, 'images')\n",
    "        path_dataset_annotations = os.path.join(path_dataset, 'annotations')\n",
    "        arr = os.listdir(path_dataset_images)\n",
    "        print(arr)"
   ]
  },
  {
   "cell_type": "code",
   "execution_count": 14,
   "id": "688f6987",
   "metadata": {},
   "outputs": [
    {
     "ename": "OSError",
     "evalue": "[WinError 123] The filename, directory name, or volume label syntax is incorrect: 'C:\\\\Users\\\\antre\\\\Documents\\\\MasterProgram\\\\Dissertation\\\\Implimentation\\\\Dataset\\\\input\\x07ffectnet\\\\train_set\\\\images'",
     "output_type": "error",
     "traceback": [
      "\u001b[1;31m---------------------------------------------------------------------------\u001b[0m",
      "\u001b[1;31mOSError\u001b[0m                                   Traceback (most recent call last)",
      "\u001b[1;32m~\\AppData\\Local\\Temp/ipykernel_47708/3306966849.py\u001b[0m in \u001b[0;36m<module>\u001b[1;34m\u001b[0m\n\u001b[1;32m----> 1\u001b[1;33m \u001b[0mcreate_affectNet_csv\u001b[0m\u001b[1;33m(\u001b[0m\u001b[1;33m)\u001b[0m\u001b[1;33m\u001b[0m\u001b[1;33m\u001b[0m\u001b[0m\n\u001b[0m",
      "\u001b[1;32m~\\AppData\\Local\\Temp/ipykernel_47708/2352886198.py\u001b[0m in \u001b[0;36mcreate_affectNet_csv\u001b[1;34m(dataset_path, sub_paths)\u001b[0m\n\u001b[0;32m      8\u001b[0m         \u001b[0mpath_dataset_images\u001b[0m \u001b[1;33m=\u001b[0m \u001b[0mos\u001b[0m\u001b[1;33m.\u001b[0m\u001b[0mpath\u001b[0m\u001b[1;33m.\u001b[0m\u001b[0mjoin\u001b[0m\u001b[1;33m(\u001b[0m\u001b[0mpath_dataset\u001b[0m\u001b[1;33m,\u001b[0m \u001b[1;34m'images'\u001b[0m\u001b[1;33m)\u001b[0m\u001b[1;33m\u001b[0m\u001b[1;33m\u001b[0m\u001b[0m\n\u001b[0;32m      9\u001b[0m         \u001b[0mpath_dataset_annotations\u001b[0m \u001b[1;33m=\u001b[0m \u001b[0mos\u001b[0m\u001b[1;33m.\u001b[0m\u001b[0mpath\u001b[0m\u001b[1;33m.\u001b[0m\u001b[0mjoin\u001b[0m\u001b[1;33m(\u001b[0m\u001b[0mpath_dataset\u001b[0m\u001b[1;33m,\u001b[0m \u001b[1;34m'annotations'\u001b[0m\u001b[1;33m)\u001b[0m\u001b[1;33m\u001b[0m\u001b[1;33m\u001b[0m\u001b[0m\n\u001b[1;32m---> 10\u001b[1;33m         \u001b[0marr\u001b[0m \u001b[1;33m=\u001b[0m \u001b[0mos\u001b[0m\u001b[1;33m.\u001b[0m\u001b[0mlistdir\u001b[0m\u001b[1;33m(\u001b[0m\u001b[0mpath_dataset_images\u001b[0m\u001b[1;33m)\u001b[0m\u001b[1;33m\u001b[0m\u001b[1;33m\u001b[0m\u001b[0m\n\u001b[0m\u001b[0;32m     11\u001b[0m         \u001b[0mprint\u001b[0m\u001b[1;33m(\u001b[0m\u001b[0marr\u001b[0m\u001b[1;33m)\u001b[0m\u001b[1;33m\u001b[0m\u001b[1;33m\u001b[0m\u001b[0m\n",
      "\u001b[1;31mOSError\u001b[0m: [WinError 123] The filename, directory name, or volume label syntax is incorrect: 'C:\\\\Users\\\\antre\\\\Documents\\\\MasterProgram\\\\Dissertation\\\\Implimentation\\\\Dataset\\\\input\\x07ffectnet\\\\train_set\\\\images'"
     ]
    }
   ],
   "source": [
    "create_affectNet_csv()"
   ]
  },
  {
   "cell_type": "code",
   "execution_count": null,
   "id": "e60ab3c3",
   "metadata": {},
   "outputs": [],
   "source": []
  }
 ],
 "metadata": {
  "kernelspec": {
   "display_name": "Python 3 (ipykernel)",
   "language": "python",
   "name": "python3"
  },
  "language_info": {
   "codemirror_mode": {
    "name": "ipython",
    "version": 3
   },
   "file_extension": ".py",
   "mimetype": "text/x-python",
   "name": "python",
   "nbconvert_exporter": "python",
   "pygments_lexer": "ipython3",
   "version": "3.7.11"
  }
 },
 "nbformat": 4,
 "nbformat_minor": 5
}
